{
 "cells": [
  {
   "cell_type": "markdown",
   "metadata": {},
   "source": [
    "## Цикл while"
   ]
  },
  {
   "cell_type": "markdown",
   "source": [
    "### Выполнение цикла n раз"
   ],
   "metadata": {
    "collapsed": false
   }
  },
  {
   "cell_type": "code",
   "execution_count": 8,
   "outputs": [
    {
     "name": "stdout",
     "output_type": "stream",
     "text": [
      "count = 0\n",
      "count = 1\n",
      "count = 2\n"
     ]
    }
   ],
   "source": [
    "n = 3      # сколько раз цикл нужно выполнить\n",
    "count = 0  # Сколько раз цикл выполнился\n",
    "while count < n:\n",
    "    print(\"count =\", count)\n",
    "    count += 1"
   ],
   "metadata": {
    "collapsed": false,
    "pycharm": {
     "name": "#%%\n"
    }
   }
  },
  {
   "cell_type": "markdown",
   "metadata": {},
   "source": [
    "### Вывод чисел в диапазоне [a, b]"
   ]
  },
  {
   "cell_type": "code",
   "execution_count": 9,
   "metadata": {
    "pycharm": {
     "name": "#%%\n"
    }
   },
   "outputs": [
    {
     "name": "stdout",
     "output_type": "stream",
     "text": [
      "a = 2\n",
      "a = 3\n",
      "a = 4\n",
      "a = 5\n",
      "a = 6\n",
      "a = 7\n"
     ]
    }
   ],
   "source": [
    "a = 2\n",
    "b = 7\n",
    "while a <= b:\n",
    "    print(\"a =\", a)\n",
    "    a += 1"
   ]
  },
  {
   "cell_type": "markdown",
   "source": [
    "### Вывод чисел кратных трем в диапазоне [a, b]"
   ],
   "metadata": {
    "collapsed": false,
    "pycharm": {
     "name": "#%% md\n"
    }
   }
  },
  {
   "cell_type": "code",
   "execution_count": 10,
   "outputs": [
    {
     "name": "stdout",
     "output_type": "stream",
     "text": [
      "a = 3\n",
      "a = 6\n"
     ]
    }
   ],
   "source": [
    "a = 2\n",
    "b = 7\n",
    "while a <= b:\n",
    "    if a % 3 == 0: # Если число кратно трем\n",
    "        print(\"a =\", a)  # то выводим его\n",
    "    a += 1"
   ],
   "metadata": {
    "collapsed": false,
    "pycharm": {
     "name": "#%%\n"
    }
   }
  },
  {
   "cell_type": "markdown",
   "source": [
    "### Нахождение количества чисел кратных трем в диапазоне [a, b]"
   ],
   "metadata": {
    "collapsed": false
   }
  },
  {
   "cell_type": "code",
   "execution_count": null,
   "outputs": [],
   "source": [
    "a = 1\n",
    "b = 8\n",
    "count = 0  # Счетчик чисел кратных трем\n",
    "while a <= b:\n",
    "    if a % 3 == 0: # Если число кратно трем\n",
    "        count += 1  # то увеличиваем счетчик на единицу\n",
    "    a += 1\n",
    "\n",
    "print(\"Количество чисел кратных трем =\", count)"
   ],
   "metadata": {
    "collapsed": false,
    "pycharm": {
     "name": "#%%\n"
    }
   }
  },
  {
   "cell_type": "markdown",
   "source": [
    "### Нахождение суммы чисел в диапазоне [a, b]"
   ],
   "metadata": {
    "collapsed": false,
    "pycharm": {
     "name": "#%% md\n"
    }
   }
  },
  {
   "cell_type": "code",
   "execution_count": 11,
   "outputs": [
    {
     "name": "stdout",
     "output_type": "stream",
     "text": [
      "Сумма чисел = 36\n"
     ]
    }
   ],
   "source": [
    "a = 1\n",
    "b = 8\n",
    "total = 0  # Переменная для накопления суммы\n",
    "while a <= b:\n",
    "    total += a\n",
    "    a += 1\n",
    "\n",
    "print(\"Сумма чисел =\", total)"
   ],
   "metadata": {
    "collapsed": false,
    "pycharm": {
     "name": "#%%\n"
    }
   }
  },
  {
   "cell_type": "markdown",
   "source": [
    "### Выполнение цикла пока не будет введено нужное значение"
   ],
   "metadata": {
    "collapsed": false
   }
  },
  {
   "cell_type": "code",
   "execution_count": 12,
   "outputs": [],
   "source": [
    "needed_value = \"stop\"\n",
    "input_value = \"\"\n",
    "\n",
    "while needed_value != input_value:\n",
    "    input_value = input(\": \")"
   ],
   "metadata": {
    "collapsed": false,
    "pycharm": {
     "name": "#%%\n"
    }
   }
  }
 ],
 "metadata": {
  "kernelspec": {
   "display_name": "Python 3 (ipykernel)",
   "language": "python",
   "name": "python3"
  },
  "language_info": {
   "codemirror_mode": {
    "name": "ipython",
    "version": 3
   },
   "file_extension": ".py",
   "mimetype": "text/x-python",
   "name": "python",
   "nbconvert_exporter": "python",
   "pygments_lexer": "ipython3",
   "version": "3.10.4"
  },
  "widgets": {
   "application/vnd.jupyter.widget-state+json": {
    "state": {},
    "version_major": 2,
    "version_minor": 0
   }
  }
 },
 "nbformat": 4,
 "nbformat_minor": 1
}