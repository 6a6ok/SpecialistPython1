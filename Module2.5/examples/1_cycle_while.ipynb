{
 "cells": [
  {
   "cell_type": "markdown",
   "metadata": {},
   "source": [
    "## Цикл while\n",
    "\n",
    "### Выполнение цикла n раз"
   ]
  },
  {
   "cell_type": "code",
   "execution_count": 5,
   "metadata": {
    "pycharm": {
     "name": "#%%\n"
    }
   },
   "outputs": [
    {
     "name": "stdout",
     "output_type": "stream",
     "text": [
      "count = 0\n",
      "count = 1\n",
      "count = 2\n",
      "count = 3\n"
     ]
    }
   ],
   "source": [
    "n = 4      # сколько раз нужно выполнить цикл\n",
    "count = 0  # Сколько раз цикл выполнился\n",
    "while count < n:\n",
    "    print(\"count =\", count)\n",
    "    count += 1\n",
    "\n"
   ]
  },
  {
   "cell_type": "code",
   "execution_count": null,
   "metadata": {},
   "outputs": [],
   "source": [
    "n = 3      # сколько раз нужно выполнить цикл\n",
    "count = 0  # Сколько раз цикл выполнился\n",
    "while count < n:\n",
    "    print(\"count =\", count)\n",
    "    count += 1"
   ]
  }
 ],
 "metadata": {
  "kernelspec": {
   "display_name": "Python 3 (ipykernel)",
   "language": "python",
   "name": "python3"
  },
  "language_info": {
   "codemirror_mode": {
    "name": "ipython",
    "version": 3
   },
   "file_extension": ".py",
   "mimetype": "text/x-python",
   "name": "python",
   "nbconvert_exporter": "python",
   "pygments_lexer": "ipython3",
   "version": "3.10.4"
  },
  "widgets": {
   "application/vnd.jupyter.widget-state+json": {
    "state": {},
    "version_major": 2,
    "version_minor": 0
   }
  }
 },
 "nbformat": 4,
 "nbformat_minor": 1
}